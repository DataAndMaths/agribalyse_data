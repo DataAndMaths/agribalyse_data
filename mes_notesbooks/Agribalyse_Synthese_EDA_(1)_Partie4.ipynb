{
 "cells": [
  {
   "cell_type": "markdown",
   "id": "sonic-nitrogen",
   "metadata": {},
   "source": [
    "# AGRIBALYSE - Synthèse\n",
    "# EXPLORATION DES DONNEES (partie 4)\n",
    "\n",
    "\n",
    "🚜🚜🚜🚜🚜🚜🚜🚜🚜🚜🚜🚜🚜🚜🚜🚜🚜🚜🚜🚜🚜🚜🚜🚜🚜🚜🚜🚜🚜🚜🚜🚜🚜🚜🚜🚜🚜🚜🚜🚜\n",
    "\n",
    "🥕🥕🥕🥕🥕🥕🥕🥕🥕🥕🥕🥕🥕🥕🥕🥕🥕🥕🥕🥕🥕🥕🥕🥕🥕🥕🥕🥕🥕🥕🥕🥕🥕🥕🥕🥕🥕🥕🥕🥕🥕\n",
    "\n",
    "🥖🥖🥖🥖🥖🥖🥖🥖🥖🥖🥖🥖🥖🥖🥖🥖🥖🥖🥖🥖🥖🥖🥖🥖🥖🥖🥖🥖🥖🥖🥖🥖🥖🥖🥖🥖🥖🥖🥖🥖\n",
    "\n",
    "🍴 🍴 🍴 🍴 🍴 🍴 🍴 🍴 🍴 🍴 🍴 🍴 🍴 🍴 🍴 🍴 🍴 🍴 🍴 🍴 🍴 🍴 🍴 🍴 🍴 🍴 🍴 🍴 🍴 🍴 🍴 🍴 🍴 🍴 🍴 🍴 🍴 🍴 🍴 🍴 🍴 🍴 🍴 🍴 🍴 🍴 🍴 🍴 🍴 \n",
    "\n",
    "♻ ♻ ♻ ♻ ♻ ♻ ♻ ♻ ♻ ♻ ♻ ♻ ♻ ♻ ♻ ♻ ♻ ♻ ♻ ♻ ♻ ♻ ♻ ♻ ♻ ♻ ♻ ♻ ♻ ♻ ♻ ♻ ♻ ♻ ♻ ♻ ♻ ♻ ♻ \n",
    "♻ ♻ ♻ ♻ ♻ ♻ ♻ ♻ ♻ \n",
    "\n",
    "Nous reprenons certains éléments des parties précédentes.  \n",
    "La partie 4 commence au paragraphe du 5e niveau d'exploration. "
   ]
  },
  {
   "cell_type": "markdown",
   "id": "persistent-victorian",
   "metadata": {},
   "source": [
    "# Pour commencer\n",
    "\n",
    "## Librairies"
   ]
  },
  {
   "cell_type": "code",
   "execution_count": 1,
   "id": "synthetic-wrapping",
   "metadata": {},
   "outputs": [],
   "source": [
    "# general\n",
    "import pandas as pd\n",
    "import numpy as np\n",
    "\n",
    "# matplotlib\n",
    "import matplotlib.pyplot as plt\n",
    "# seaborn\n",
    "import seaborn as sns\n",
    "\n",
    "# plotly\n",
    "import plotly.express as px\n",
    "import plotly.graph_objs as go\n",
    "from plotly.offline import iplot, plot\n",
    "from plotly.subplots import make_subplots\n",
    "## fixer le theme\n",
    "import plotly.io as pio\n",
    "pio.templates.default = 'ggplot2'\n",
    "\n",
    "# scikit-learn\n",
    "## Métriques\n",
    "from sklearn.metrics import silhouette_score\n",
    "## Clustering\n",
    "from sklearn.cluster import KMeans\n",
    "\n",
    "# yellowbrick\n",
    "## Clustering\n",
    "from yellowbrick.cluster import SilhouetteVisualizer"
   ]
  },
  {
   "cell_type": "markdown",
   "id": "olive-strengthening",
   "metadata": {},
   "source": [
    "# Données"
   ]
  },
  {
   "cell_type": "code",
   "execution_count": 2,
   "id": "charming-foster",
   "metadata": {},
   "outputs": [],
   "source": [
    "# importation des données\n",
    "synthese_data = pd.read_csv('datasets/Agribalyse_Synthese.csv', header=0)"
   ]
  },
  {
   "cell_type": "code",
   "execution_count": 3,
   "id": "adopted-keeping",
   "metadata": {},
   "outputs": [],
   "source": [
    "# augmenter le nombre de colonnes visibles\n",
    "pd.set_option(\"display.max_columns\", 40)"
   ]
  },
  {
   "cell_type": "code",
   "execution_count": 4,
   "id": "greatest-weight",
   "metadata": {},
   "outputs": [
    {
     "data": {
      "text/html": [
       "<div>\n",
       "<style scoped>\n",
       "    .dataframe tbody tr th:only-of-type {\n",
       "        vertical-align: middle;\n",
       "    }\n",
       "\n",
       "    .dataframe tbody tr th {\n",
       "        vertical-align: top;\n",
       "    }\n",
       "\n",
       "    .dataframe thead th {\n",
       "        text-align: right;\n",
       "    }\n",
       "</style>\n",
       "<table border=\"1\" class=\"dataframe\">\n",
       "  <thead>\n",
       "    <tr style=\"text-align: right;\">\n",
       "      <th></th>\n",
       "      <th>Code AGB</th>\n",
       "      <th>Code CIQUAL</th>\n",
       "      <th>Groupe d'aliment</th>\n",
       "      <th>Sous-groupe d'aliment</th>\n",
       "      <th>Nom du Produit en Français</th>\n",
       "      <th>LCI Name</th>\n",
       "      <th>Saisonnalité</th>\n",
       "      <th>Transport par avion (1 : par avion)</th>\n",
       "      <th>Livraison</th>\n",
       "      <th>Matériau d'emballage</th>\n",
       "      <th>Préparation</th>\n",
       "      <th>DQR - Note de qualité de la donnée (1 excellente ; 5 très faible)</th>\n",
       "      <th>Score unique EF (mPt/kg de produit)</th>\n",
       "      <th>Changement climatique (kg CO2 eq/kg de produit)</th>\n",
       "      <th>Appauvrissement de la couche d'ozone (E-06 kg CVC11 eq/kg de produit)</th>\n",
       "      <th>Rayonnements ionisants (kBq U-235 eq/kg de produit)</th>\n",
       "      <th>Formation photochimique d'ozone (E-03 kg NMVOC eq/kg de produit)</th>\n",
       "      <th>Particules (E-06 disease inc./kg de produit)</th>\n",
       "      <th>Acidification terrestre et eaux douces (mol H+ eq/kg de produit)</th>\n",
       "      <th>Eutrophisation terreste (mol N eq/kg de produit)</th>\n",
       "      <th>Eutrophisation eaux douces (E-03 kg P eq/kg de produit)</th>\n",
       "      <th>Eutrophisation marine (E-03 kg N eq/kg de produit)</th>\n",
       "      <th>Utilisation du sol (Pt/kg de produit)</th>\n",
       "      <th>Écotoxicité pour écosystèmes aquatiques d'eau douce (CTUe/kg de produit)</th>\n",
       "      <th>Épuisement des ressources eau (m3 depriv./kg de produit)</th>\n",
       "      <th>Épuisement des ressources énergétiques (MJ/kg de produit)</th>\n",
       "      <th>Épuisement des ressources minéraux (E-06 kg Sb eq/kg de produit)</th>\n",
       "    </tr>\n",
       "  </thead>\n",
       "  <tbody>\n",
       "    <tr>\n",
       "      <th>0</th>\n",
       "      <td>13712</td>\n",
       "      <td>13712</td>\n",
       "      <td>fruits, légumes, légumineuses et oléagineux</td>\n",
       "      <td>fruits</td>\n",
       "      <td>Abricot au sirop léger, appertisé, égoutté</td>\n",
       "      <td>Apricot, canned in light syrup, drained</td>\n",
       "      <td>mix de consommation FR</td>\n",
       "      <td>0</td>\n",
       "      <td>Ambiant (moyenne)</td>\n",
       "      <td>Acier</td>\n",
       "      <td>Pas de préparation</td>\n",
       "      <td>2.46</td>\n",
       "      <td>0.215366</td>\n",
       "      <td>1.221121</td>\n",
       "      <td>0.248176</td>\n",
       "      <td>1.820853</td>\n",
       "      <td>4.658415</td>\n",
       "      <td>0.096413</td>\n",
       "      <td>0.009301</td>\n",
       "      <td>0.031766</td>\n",
       "      <td>0.410555</td>\n",
       "      <td>1.502775</td>\n",
       "      <td>44.823181</td>\n",
       "      <td>62.195218</td>\n",
       "      <td>1.630637</td>\n",
       "      <td>47.237697</td>\n",
       "      <td>2.938064</td>\n",
       "    </tr>\n",
       "    <tr>\n",
       "      <th>1</th>\n",
       "      <td>13713</td>\n",
       "      <td>13713</td>\n",
       "      <td>fruits, légumes, légumineuses et oléagineux</td>\n",
       "      <td>fruits</td>\n",
       "      <td>Abricot au sirop léger, appertisé, non égoutté</td>\n",
       "      <td>Apricot, canned in light syrup, not drained</td>\n",
       "      <td>mix de consommation FR</td>\n",
       "      <td>0</td>\n",
       "      <td>Ambiant (moyenne)</td>\n",
       "      <td>Acier</td>\n",
       "      <td>Pas de préparation</td>\n",
       "      <td>2.46</td>\n",
       "      <td>0.128043</td>\n",
       "      <td>0.612234</td>\n",
       "      <td>0.153879</td>\n",
       "      <td>1.135915</td>\n",
       "      <td>2.784663</td>\n",
       "      <td>0.059314</td>\n",
       "      <td>0.005726</td>\n",
       "      <td>0.019499</td>\n",
       "      <td>0.235366</td>\n",
       "      <td>0.797791</td>\n",
       "      <td>27.901738</td>\n",
       "      <td>36.285914</td>\n",
       "      <td>1.010960</td>\n",
       "      <td>29.397697</td>\n",
       "      <td>1.823726</td>\n",
       "    </tr>\n",
       "    <tr>\n",
       "      <th>2</th>\n",
       "      <td>13714</td>\n",
       "      <td>13714</td>\n",
       "      <td>fruits, légumes, légumineuses et oléagineux</td>\n",
       "      <td>fruits</td>\n",
       "      <td>Abricot au sirop, appertisé, égoutté</td>\n",
       "      <td>Apricot, in syrup, canned, drained</td>\n",
       "      <td>mix de consommation FR</td>\n",
       "      <td>0</td>\n",
       "      <td>Ambiant (moyenne)</td>\n",
       "      <td>Acier</td>\n",
       "      <td>Pas de préparation</td>\n",
       "      <td>2.46</td>\n",
       "      <td>0.215366</td>\n",
       "      <td>1.221121</td>\n",
       "      <td>0.248176</td>\n",
       "      <td>1.820853</td>\n",
       "      <td>4.658415</td>\n",
       "      <td>0.096413</td>\n",
       "      <td>0.009301</td>\n",
       "      <td>0.031766</td>\n",
       "      <td>0.410555</td>\n",
       "      <td>1.502775</td>\n",
       "      <td>44.823181</td>\n",
       "      <td>62.195218</td>\n",
       "      <td>1.630637</td>\n",
       "      <td>47.237697</td>\n",
       "      <td>2.938064</td>\n",
       "    </tr>\n",
       "    <tr>\n",
       "      <th>3</th>\n",
       "      <td>13715</td>\n",
       "      <td>13715</td>\n",
       "      <td>fruits, légumes, légumineuses et oléagineux</td>\n",
       "      <td>fruits</td>\n",
       "      <td>Abricot au sirop, appertisé, non égoutté</td>\n",
       "      <td>Apricot, in syrup, canned, not drained</td>\n",
       "      <td>mix de consommation FR</td>\n",
       "      <td>0</td>\n",
       "      <td>Ambiant (moyenne)</td>\n",
       "      <td>Acier</td>\n",
       "      <td>Pas de préparation</td>\n",
       "      <td>2.44</td>\n",
       "      <td>0.128043</td>\n",
       "      <td>0.612234</td>\n",
       "      <td>0.153879</td>\n",
       "      <td>1.135915</td>\n",
       "      <td>2.784663</td>\n",
       "      <td>0.059314</td>\n",
       "      <td>0.005726</td>\n",
       "      <td>0.019499</td>\n",
       "      <td>0.235366</td>\n",
       "      <td>0.797791</td>\n",
       "      <td>27.901738</td>\n",
       "      <td>36.285914</td>\n",
       "      <td>1.010960</td>\n",
       "      <td>29.397697</td>\n",
       "      <td>1.823726</td>\n",
       "    </tr>\n",
       "    <tr>\n",
       "      <th>4</th>\n",
       "      <td>13000</td>\n",
       "      <td>13000</td>\n",
       "      <td>fruits, légumes, légumineuses et oléagineux</td>\n",
       "      <td>fruits</td>\n",
       "      <td>Abricot, dénoyauté, cru</td>\n",
       "      <td>Apricot, pitted, raw</td>\n",
       "      <td>mix de consommation FR</td>\n",
       "      <td>0</td>\n",
       "      <td>Ambiant (moyenne)</td>\n",
       "      <td>LPDE</td>\n",
       "      <td>Pas de préparation</td>\n",
       "      <td>2.20</td>\n",
       "      <td>0.118929</td>\n",
       "      <td>0.861730</td>\n",
       "      <td>0.089663</td>\n",
       "      <td>0.298539</td>\n",
       "      <td>3.065576</td>\n",
       "      <td>0.061462</td>\n",
       "      <td>0.007254</td>\n",
       "      <td>0.025954</td>\n",
       "      <td>0.204244</td>\n",
       "      <td>0.943669</td>\n",
       "      <td>43.838644</td>\n",
       "      <td>41.957928</td>\n",
       "      <td>1.412878</td>\n",
       "      <td>17.123820</td>\n",
       "      <td>2.173328</td>\n",
       "    </tr>\n",
       "  </tbody>\n",
       "</table>\n",
       "</div>"
      ],
      "text/plain": [
       "  Code AGB  Code CIQUAL                             Groupe d'aliment  \\\n",
       "0    13712        13712  fruits, légumes, légumineuses et oléagineux   \n",
       "1    13713        13713  fruits, légumes, légumineuses et oléagineux   \n",
       "2    13714        13714  fruits, légumes, légumineuses et oléagineux   \n",
       "3    13715        13715  fruits, légumes, légumineuses et oléagineux   \n",
       "4    13000        13000  fruits, légumes, légumineuses et oléagineux   \n",
       "\n",
       "  Sous-groupe d'aliment                      Nom du Produit en Français  \\\n",
       "0                fruits      Abricot au sirop léger, appertisé, égoutté   \n",
       "1                fruits  Abricot au sirop léger, appertisé, non égoutté   \n",
       "2                fruits            Abricot au sirop, appertisé, égoutté   \n",
       "3                fruits        Abricot au sirop, appertisé, non égoutté   \n",
       "4                fruits                         Abricot, dénoyauté, cru   \n",
       "\n",
       "                                      LCI Name            Saisonnalité  \\\n",
       "0      Apricot, canned in light syrup, drained  mix de consommation FR   \n",
       "1  Apricot, canned in light syrup, not drained  mix de consommation FR   \n",
       "2           Apricot, in syrup, canned, drained  mix de consommation FR   \n",
       "3       Apricot, in syrup, canned, not drained  mix de consommation FR   \n",
       "4                         Apricot, pitted, raw  mix de consommation FR   \n",
       "\n",
       "   Transport par avion (1 : par avion)          Livraison  \\\n",
       "0                                    0  Ambiant (moyenne)   \n",
       "1                                    0  Ambiant (moyenne)   \n",
       "2                                    0  Ambiant (moyenne)   \n",
       "3                                    0  Ambiant (moyenne)   \n",
       "4                                    0  Ambiant (moyenne)   \n",
       "\n",
       "  Matériau d'emballage          Préparation  \\\n",
       "0                Acier  Pas de préparation    \n",
       "1                Acier  Pas de préparation    \n",
       "2                Acier  Pas de préparation    \n",
       "3                Acier   Pas de préparation   \n",
       "4                 LPDE   Pas de préparation   \n",
       "\n",
       "   DQR - Note de qualité de la donnée (1 excellente ; 5 très faible)  \\\n",
       "0                                               2.46                   \n",
       "1                                               2.46                   \n",
       "2                                               2.46                   \n",
       "3                                               2.44                   \n",
       "4                                               2.20                   \n",
       "\n",
       "   Score unique EF (mPt/kg de produit)  \\\n",
       "0                             0.215366   \n",
       "1                             0.128043   \n",
       "2                             0.215366   \n",
       "3                             0.128043   \n",
       "4                             0.118929   \n",
       "\n",
       "   Changement climatique (kg CO2 eq/kg de produit)  \\\n",
       "0                                         1.221121   \n",
       "1                                         0.612234   \n",
       "2                                         1.221121   \n",
       "3                                         0.612234   \n",
       "4                                         0.861730   \n",
       "\n",
       "   Appauvrissement de la couche d'ozone (E-06 kg CVC11 eq/kg de produit)  \\\n",
       "0                                           0.248176                       \n",
       "1                                           0.153879                       \n",
       "2                                           0.248176                       \n",
       "3                                           0.153879                       \n",
       "4                                           0.089663                       \n",
       "\n",
       "   Rayonnements ionisants (kBq U-235 eq/kg de produit)  \\\n",
       "0                                           1.820853     \n",
       "1                                           1.135915     \n",
       "2                                           1.820853     \n",
       "3                                           1.135915     \n",
       "4                                           0.298539     \n",
       "\n",
       "   Formation photochimique d'ozone (E-03 kg NMVOC eq/kg de produit)  \\\n",
       "0                                           4.658415                  \n",
       "1                                           2.784663                  \n",
       "2                                           4.658415                  \n",
       "3                                           2.784663                  \n",
       "4                                           3.065576                  \n",
       "\n",
       "   Particules (E-06 disease inc./kg de produit)  \\\n",
       "0                                      0.096413   \n",
       "1                                      0.059314   \n",
       "2                                      0.096413   \n",
       "3                                      0.059314   \n",
       "4                                      0.061462   \n",
       "\n",
       "   Acidification terrestre et eaux douces (mol H+ eq/kg de produit)  \\\n",
       "0                                           0.009301                  \n",
       "1                                           0.005726                  \n",
       "2                                           0.009301                  \n",
       "3                                           0.005726                  \n",
       "4                                           0.007254                  \n",
       "\n",
       "   Eutrophisation terreste (mol N eq/kg de produit)  \\\n",
       "0                                          0.031766   \n",
       "1                                          0.019499   \n",
       "2                                          0.031766   \n",
       "3                                          0.019499   \n",
       "4                                          0.025954   \n",
       "\n",
       "   Eutrophisation eaux douces (E-03 kg P eq/kg de produit)  \\\n",
       "0                                           0.410555         \n",
       "1                                           0.235366         \n",
       "2                                           0.410555         \n",
       "3                                           0.235366         \n",
       "4                                           0.204244         \n",
       "\n",
       "   Eutrophisation marine (E-03 kg N eq/kg de produit)  \\\n",
       "0                                           1.502775    \n",
       "1                                           0.797791    \n",
       "2                                           1.502775    \n",
       "3                                           0.797791    \n",
       "4                                           0.943669    \n",
       "\n",
       "   Utilisation du sol (Pt/kg de produit)  \\\n",
       "0                              44.823181   \n",
       "1                              27.901738   \n",
       "2                              44.823181   \n",
       "3                              27.901738   \n",
       "4                              43.838644   \n",
       "\n",
       "   Écotoxicité pour écosystèmes aquatiques d'eau douce (CTUe/kg de produit)  \\\n",
       "0                                          62.195218                          \n",
       "1                                          36.285914                          \n",
       "2                                          62.195218                          \n",
       "3                                          36.285914                          \n",
       "4                                          41.957928                          \n",
       "\n",
       "   Épuisement des ressources eau (m3 depriv./kg de produit)  \\\n",
       "0                                           1.630637          \n",
       "1                                           1.010960          \n",
       "2                                           1.630637          \n",
       "3                                           1.010960          \n",
       "4                                           1.412878          \n",
       "\n",
       "   Épuisement des ressources énergétiques (MJ/kg de produit)  \\\n",
       "0                                          47.237697           \n",
       "1                                          29.397697           \n",
       "2                                          47.237697           \n",
       "3                                          29.397697           \n",
       "4                                          17.123820           \n",
       "\n",
       "   Épuisement des ressources minéraux (E-06 kg Sb eq/kg de produit)  \n",
       "0                                           2.938064                 \n",
       "1                                           1.823726                 \n",
       "2                                           2.938064                 \n",
       "3                                           1.823726                 \n",
       "4                                           2.173328                 "
      ]
     },
     "execution_count": 4,
     "metadata": {},
     "output_type": "execute_result"
    }
   ],
   "source": [
    "# afficher les 1e lignes\n",
    "synthese_data.head()"
   ]
  },
  {
   "cell_type": "markdown",
   "id": "governing-sleeping",
   "metadata": {},
   "source": [
    "#### Création d'une copie"
   ]
  },
  {
   "cell_type": "code",
   "execution_count": 5,
   "id": "uniform-taiwan",
   "metadata": {},
   "outputs": [],
   "source": [
    "synthese_dataset = synthese_data.copy()"
   ]
  },
  {
   "cell_type": "code",
   "execution_count": 6,
   "id": "proved-chicago",
   "metadata": {},
   "outputs": [],
   "source": [
    "target = \"DQR - Note de qualité de la donnée (1 excellente ; 5 très faible)\""
   ]
  },
  {
   "cell_type": "code",
   "execution_count": 7,
   "id": "naval-rabbit",
   "metadata": {},
   "outputs": [],
   "source": [
    "synthese_dataset = synthese_dataset.drop(['Code AGB', 'Code CIQUAL'], axis=1)"
   ]
  },
  {
   "cell_type": "code",
   "execution_count": 8,
   "id": "mental-squad",
   "metadata": {},
   "outputs": [],
   "source": [
    "# suppression de \"Nom du Produit en Français\"\n",
    "synthese_dataset = synthese_dataset.drop([\"Nom du Produit en Français\"], axis=1)"
   ]
  },
  {
   "cell_type": "code",
   "execution_count": 9,
   "id": "mexican-lunch",
   "metadata": {},
   "outputs": [],
   "source": [
    "# suppression de 'LCI Name'\n",
    "synthese_dataset = synthese_dataset.drop(['LCI Name'], axis=1)"
   ]
  },
  {
   "cell_type": "code",
   "execution_count": 10,
   "id": "sharing-testing",
   "metadata": {},
   "outputs": [],
   "source": [
    "synthese_dataset = synthese_dataset.drop([\"Saisonnalité\"], axis=1)"
   ]
  },
  {
   "cell_type": "code",
   "execution_count": 11,
   "id": "bored-panel",
   "metadata": {},
   "outputs": [],
   "source": [
    "# suppression de la colonne \"Transport par avion (1 : par avion)\"\n",
    "synthese_dataset = synthese_dataset.drop([\"Transport par avion (1 : par avion)\"], axis=1)"
   ]
  },
  {
   "cell_type": "code",
   "execution_count": 12,
   "id": "nervous-coast",
   "metadata": {},
   "outputs": [],
   "source": [
    "plastique_emballage = ['PS', 'LPDE', 'PP', 'Déjà emballé - PET', 'V (PVC)', 'Bouteille PETE',  'HPDE',\n",
    "                       'Déjà emballé - PP/PE', 'Déjà emballé - LDPE', 'PVC', 'Bouteille PET',]"
   ]
  },
  {
   "cell_type": "markdown",
   "id": "future-graduation",
   "metadata": {},
   "source": [
    "# 5e niveau d'exploration\n",
    "\n",
    "On donne ici des compléments divers.  \n",
    "\n",
    "## Clustering\n",
    "\n",
    "### DQR\n",
    "\n",
    "Ils semblent qu'il y aient des groupes de DQR.   \n",
    "Nous extrayons la colonne des DQR et nous appliquons l'algorithme du Kmeans pour détecter des clusters. D'après l'histogramme des DQR, on peut tester avec 8 clusters. "
   ]
  },
  {
   "cell_type": "code",
   "execution_count": 33,
   "id": "crucial-layer",
   "metadata": {},
   "outputs": [
    {
     "data": {
      "text/plain": [
       "KMeans(random_state=0)"
      ]
     },
     "execution_count": 33,
     "metadata": {},
     "output_type": "execute_result"
    }
   ],
   "source": [
    "model_kmeans = KMeans(n_clusters=8, random_state=0)\n",
    "model_kmeans.fit(synthese_dataset.loc[:,[target]])"
   ]
  },
  {
   "cell_type": "markdown",
   "id": "colored-vinyl",
   "metadata": {},
   "source": [
    "Pour la représentation graphique :\n",
    "* x correspond aux DQR\n",
    "* il n'y a pas de y ici, nous avons fixé une valeur arbitraire, y=1. \n",
    "* Les valeurs des DQR sont représentées par les différents points. \n",
    "* Les centres des clusters sont placés. "
   ]
  },
  {
   "cell_type": "code",
   "execution_count": 34,
   "id": "essential-wrapping",
   "metadata": {},
   "outputs": [
    {
     "data": {
      "image/png": "[encoded data removed]",
      "text/plain": [
       "<Figure size 1440x288 with 1 Axes>"
      ]
     },
     "metadata": {},
     "output_type": "display_data"
    }
   ],
   "source": [
    "fig = plt.figure(figsize=(20,4))\n",
    "plt.scatter(x=model_kmeans.cluster_centers_, y=np.ones(len(model_kmeans.cluster_centers_)), \n",
    "            c='r', marker=\"|\", s=300, \n",
    "            label=\"centroïdes des clusters\")\n",
    "plt.scatter(x=synthese_dataset.loc[:,[target]], y=np.ones(len(synthese_dataset.loc[:,[target]])), \n",
    "            c=model_kmeans.labels_, cmap='tab20c')\n",
    "plt.legend()\n",
    "plt.show()"
   ]
  },
  {
   "cell_type": "markdown",
   "id": "boring-destiny",
   "metadata": {},
   "source": [
    "Combien de cluster faudrait-il prendre ?   \n",
    "Traçons la courbe de l'inertie en fonction du nombre de cluster.  \n",
    "\n",
    "(inertie = moyenne des carrés des distances entre chaque point et le centroïde le plus proche)"
   ]
  },
  {
   "cell_type": "code",
   "execution_count": 35,
   "id": "stone-likelihood",
   "metadata": {},
   "outputs": [],
   "source": [
    "# Dans la liste 'inertia', on met les différentes valeurs d'inertie correspondant aux différents clusters\n",
    "# On initialise la liste :\n",
    "inertia = []\n",
    "\n",
    "# nombre de clusters à tester\n",
    "K_range = range(1,20) \n",
    "\n",
    "# pour chaque nombre de cluster, on entraîne un K-means différent, puis on ajoute son inertie à la liste précédente\n",
    "for k in K_range:\n",
    "    model = KMeans(n_clusters=k).fit(synthese_dataset.loc[:,[target]])\n",
    "    inertia.append(model.inertia_)"
   ]
  },
  {
   "cell_type": "code",
   "execution_count": 36,
   "id": "heated-concept",
   "metadata": {},
   "outputs": [
    {
     "data": {
      "image/png": "[encoded data removed]",
      "text/plain": [
       "<Figure size 576x432 with 1 Axes>"
      ]
     },
     "metadata": {},
     "output_type": "display_data"
    }
   ],
   "source": [
    "# on affiche la courbe de l'inertie en fonction du nombre de cluster\n",
    "plt.figure(figsize=(8,6))\n",
    "plt.plot(K_range, inertia)\n",
    "plt.xlabel('nombre de cluster')\n",
    "plt.ylabel('inertie')\n",
    "plt.title(\"Courbe 'inertie vs nombre de cluster'\")\n",
    "plt.show()"
   ]
  },
  {
   "cell_type": "markdown",
   "id": "mobile-pound",
   "metadata": {},
   "source": [
    "8 clusters est une valeur possible, on peut aussi prendre 5 :"
   ]
  },
  {
   "cell_type": "code",
   "execution_count": 37,
   "id": "irish-warehouse",
   "metadata": {},
   "outputs": [
    {
     "data": {
      "text/plain": [
       "KMeans(n_clusters=5, random_state=0)"
      ]
     },
     "execution_count": 37,
     "metadata": {},
     "output_type": "execute_result"
    }
   ],
   "source": [
    "model_kmeans = KMeans(n_clusters=5, random_state=0)\n",
    "model_kmeans.fit(synthese_dataset.loc[:,[target]])"
   ]
  },
  {
   "cell_type": "code",
   "execution_count": 38,
   "id": "structured-productivity",
   "metadata": {},
   "outputs": [
    {
     "data": {
      "image/png": "[encoded data removed]",
      "text/plain": [
       "<Figure size 1440x288 with 1 Axes>"
      ]
     },
     "metadata": {},
     "output_type": "display_data"
    }
   ],
   "source": [
    "fig = plt.figure(figsize=(20,4))\n",
    "plt.scatter(x=model_kmeans.cluster_centers_, y=np.ones(len(model_kmeans.cluster_centers_)), \n",
    "            c='r', marker=\"|\", s=300, \n",
    "            label=\"centroïdes des clusters\")\n",
    "plt.scatter(x=synthese_dataset.loc[:,[target]], y=np.ones(len(synthese_dataset.loc[:,[target]])), \n",
    "            c=model_kmeans.labels_, cmap='tab20c'\n",
    "           )\n",
    "plt.legend()\n",
    "plt.show()"
   ]
  },
  {
   "cell_type": "code",
   "execution_count": 39,
   "id": "paperback-tsunami",
   "metadata": {},
   "outputs": [
    {
     "data": {
      "image/png": "[encoded data removed]",
      "text/plain": [
       "<Figure size 576x396 with 1 Axes>"
      ]
     },
     "metadata": {},
     "output_type": "display_data"
    },
    {
     "data": {
      "text/plain": [
       "<AxesSubplot:title={'center':'Silhouette Plot of KMeans Clustering for 2479 Samples in 5 Centers'}, xlabel='silhouette coefficient values', ylabel='cluster label'>"
      ]
     },
     "execution_count": 39,
     "metadata": {},
     "output_type": "execute_result"
    }
   ],
   "source": [
    "visualizer = SilhouetteVisualizer(model_kmeans, colors='yellowbrick')\n",
    "\n",
    "visualizer.fit(synthese_dataset.loc[:,[target]])        # Fit les données sur le visualizer\n",
    "visualizer.show()                                       "
   ]
  }
 ],
 "metadata": {
  "kernelspec": {
   "display_name": "Python 3",
   "language": "python",
   "name": "python3"
  },
  "language_info": {
   "codemirror_mode": {
    "name": "ipython",
    "version": 3
   },
   "file_extension": ".py",
   "mimetype": "text/x-python",
   "name": "python",
   "nbconvert_exporter": "python",
   "pygments_lexer": "ipython3",
   "version": "3.8.5"
  }
 },
 "nbformat": 4,
 "nbformat_minor": 5
}
